{
 "cells": [
  {
   "cell_type": "code",
   "execution_count": null,
   "metadata": {},
   "outputs": [],
   "source": [
    "import matplotlib\n",
    "matplotlib.rc(\"text\", usetex=True)\n",
    "matplotlib.rc(\"font\", family=\"serif\")\n",
    "import matplotlib.pyplot as plt\n",
    "import matplotlib.colors as colors\n",
    "\n",
    "import numpy as np\n",
    "from mpl_toolkits.axes_grid1 import make_axes_locatable\n",
    "import h5py\n",
    "import os\n",
    "import sys\n",
    "sys.path.append('.')\n",
    "from datalib import Data, flag_to_species\n",
    "from scipy.ndimage import gaussian_filter1d"
   ]
  },
  {
   "cell_type": "code",
   "execution_count": null,
   "metadata": {},
   "outputs": [],
   "source": [
    "# This loads the data from the target directory into python\n",
    "data = Data('../problems/two_stream/bin/Data/')\n",
    "print(data.conf)\n",
    "print(data.fld_steps[-1])"
   ]
  },
  {
   "cell_type": "code",
   "execution_count": null,
   "metadata": {},
   "outputs": [],
   "source": [
    "# We would like to plot the electron phase space distribution of the last output timestep\n",
    "data.reload()\n",
    "step = data.ptc_steps[-1]\n",
    "# step = 40\n",
    "data.load(step)\n",
    "print(data.time)\n",
    "\n",
    "tick_size = 16\n",
    "label_size = 24\n",
    "\n",
    "fig, ax = plt.subplots(1, 1)\n",
    "fig.set_size_inches(10.0, 6.0)\n",
    "fig.patch.set_facecolor('w')\n",
    "\n",
    "print(data.tracked_ptc_p1.shape)\n",
    "e_x1 = data.tracked_ptc_x1[flag_to_species(data.tracked_ptc_flag) == 0]\n",
    "e_p1 = data.tracked_ptc_p1[flag_to_species(data.tracked_ptc_flag) == 0]\n",
    "p_x1 = data.tracked_ptc_x1[flag_to_species(data.tracked_ptc_flag) == 1]\n",
    "p_p1 = data.tracked_ptc_p1[flag_to_species(data.tracked_ptc_flag) == 1]\n",
    "print(e_x1)\n",
    "ax.hist2d(e_x1, e_p1, bins=200)\n",
    "\n",
    "ax.tick_params(labelsize=tick_size)\n",
    "ax.set_xlabel(r'$x$', fontsize=label_size)\n",
    "ax.set_ylabel(r'$p_x$', fontsize=label_size)\n",
    "ax.text(0.7, 1.05, f'$t = {data.time:.2f}$',transform=ax.transAxes,\n",
    "        fontsize=label_size)"
   ]
  },
  {
   "cell_type": "code",
   "execution_count": null,
   "metadata": {},
   "outputs": [],
   "source": [
    "# This loop plots electron phase space for all output time steps, and save the plots in the \"python/plots/\" directory\n",
    "if not os.path.exists(\"plots\"):\n",
    "    os.makedirs(\"plots\")\n",
    "\n",
    "tick_size = 16\n",
    "label_size = 24\n",
    "data.reload()\n",
    "for step in data.fld_steps:\n",
    "    fig, ax = plt.subplots(1, 1)\n",
    "    fig.set_size_inches(10.0, 6.0)\n",
    "    fig.patch.set_facecolor('w')\n",
    "\n",
    "    data.load(step)\n",
    "    \n",
    "    e_x1 = data.tracked_ptc_x1[flag_to_species(data.tracked_ptc_flag) == 0]\n",
    "    e_p1 = data.tracked_ptc_p1[flag_to_species(data.tracked_ptc_flag) == 0]\n",
    "    ax.hist2d(e_x1, e_p1, bins=200, rasterized=True)\n",
    "\n",
    "    ax.tick_params(labelsize=tick_size)\n",
    "    ax.set_xlabel(r'$x$', fontsize=label_size)\n",
    "    ax.set_ylabel(r'$p_x$', fontsize=label_size)\n",
    "    \n",
    "    ax.text(0.7, 1.05, f'$t = {data.time:.2f}$',transform=ax.transAxes,\n",
    "            fontsize=label_size)\n",
    "    fig.savefig(f'plots/{step:05d}.png')\n",
    "    plt.close(fig)"
   ]
  },
  {
   "cell_type": "code",
   "execution_count": null,
   "metadata": {},
   "outputs": [],
   "source": [
    "# growth rate\n",
    "data.reload()\n",
    "UE = np.zeros(len(data.fld_steps))\n",
    "ts = np.zeros_like(UE)\n",
    "gamma = np.sqrt(1.0 + data.conf['p0']**2)\n",
    "print(gamma)\n",
    "km = np.sqrt(3.0/8.0/gamma)/data.conf['p0']\n",
    "print(\"km is \", km)\n",
    "omega_p = np.sqrt(data.conf[\"rho_b\"])\n",
    "print(\"omega_p is\", omega_p)\n",
    "for step in data.fld_steps:\n",
    "    data.load_fld(step)\n",
    "    UE[step] = np.sum(np.sqrt(data.E1**2))\n",
    "    ts[step] = data.time * omega_p\n",
    "    print(step, ts[step], UE[step])"
   ]
  },
  {
   "cell_type": "code",
   "execution_count": null,
   "metadata": {},
   "outputs": [],
   "source": [
    "tick_size = 25\n",
    "label_size = 30\n",
    "\n",
    "fig, ax = plt.subplots(1, 1)\n",
    "fig.set_size_inches(10.0, 6.0)\n",
    "fig.patch.set_facecolor('w')\n",
    "\n",
    "ax.plot(ts, UE)\n",
    "ax.set_yscale('log')\n",
    "# ax.set_xlim(1,20)\n",
    "# ax.set_ylim(1e-1, 1e3)\n",
    "\n",
    "rate = 1.0 / (2.0 * np.sqrt(gamma**3))\n",
    "print(rate, np.sqrt(1.0 + data.conf['p0']**2))\n",
    "ys = 4.5e-2 * np.exp((ts-0) * rate)\n",
    "ax.plot(ts, ys, '--')\n",
    "print(data.conf['p0'])"
   ]
  },
  {
   "cell_type": "code",
   "execution_count": null,
   "metadata": {},
   "outputs": [],
   "source": []
  }
 ],
 "metadata": {
  "kernelspec": {
   "display_name": "Python 3 (ipykernel)",
   "language": "python",
   "name": "python3"
  },
  "language_info": {
   "codemirror_mode": {
    "name": "ipython",
    "version": 3
   },
   "file_extension": ".py",
   "mimetype": "text/x-python",
   "name": "python",
   "nbconvert_exporter": "python",
   "pygments_lexer": "ipython3",
   "version": "3.10.9"
  },
  "orig_nbformat": 4,
  "vscode": {
   "interpreter": {
    "hash": "e7370f93d1d0cde622a1f8e1c04877d8463912d04d973331ad4851f04de6915a"
   }
  }
 },
 "nbformat": 4,
 "nbformat_minor": 2
}
