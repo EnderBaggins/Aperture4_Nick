{
 "cells": [
  {
   "cell_type": "code",
   "execution_count": null,
   "metadata": {},
   "outputs": [],
   "source": [
    "import matplotlib\n",
    "matplotlib.rc(\"text\", usetex=True)\n",
    "matplotlib.rc(\"font\", family=\"serif\")\n",
    "import matplotlib.pyplot as plt\n",
    "import matplotlib.colors as colors\n",
    "\n",
    "import numpy as np\n",
    "from mpl_toolkits.axes_grid1 import make_axes_locatable\n",
    "import h5py\n",
    "import sys\n",
    "sys.path.append('.')\n",
    "from datalib import Data, flag_to_species\n",
    "from scipy.ndimage import gaussian_filter1d"
   ]
  },
  {
   "cell_type": "code",
   "execution_count": null,
   "metadata": {},
   "outputs": [],
   "source": [
    "data = Data('../problems/two_stream/bin/Data/')\n",
    "print(data.conf)\n",
    "print(data.fld_steps[-1])"
   ]
  },
  {
   "cell_type": "code",
   "execution_count": null,
   "metadata": {},
   "outputs": [],
   "source": [
    "data.reload()\n",
    "# step = data.ptc_steps[-1]\n",
    "step = 40\n",
    "data.load(step)\n",
    "print(data.time)\n",
    "\n",
    "tick_size = 16\n",
    "label_size = 24\n",
    "\n",
    "fig, ax = plt.subplots(1, 1)\n",
    "fig.set_size_inches(10.0, 6.0)\n",
    "fig.patch.set_facecolor('w')\n",
    "\n",
    "print(data.tracked_ptc_p1.shape)\n",
    "e_x1 = data.tracked_ptc_x1[flag_to_species(data.tracked_ptc_flag) == 0]\n",
    "e_p1 = data.tracked_ptc_p1[flag_to_species(data.tracked_ptc_flag) == 0]\n",
    "p_x1 = data.tracked_ptc_x1[flag_to_species(data.tracked_ptc_flag) == 1]\n",
    "p_p1 = data.tracked_ptc_p1[flag_to_species(data.tracked_ptc_flag) == 1]\n",
    "print(e_x1)\n",
    "#ax.hist2d(e_x1, e_p1, bins=200)\n",
    "ax.hist2d(data.tracked_ptc_x1, data.tracked_ptc_p1, bins=200)\n",
    "\n",
    "ax.tick_params(labelsize=tick_size)\n",
    "ax.set_xlabel(r'$x$', fontsize=label_size)\n",
    "ax.set_ylabel(r'$y$', fontsize=label_size)"
   ]
  },
  {
   "cell_type": "code",
   "execution_count": null,
   "metadata": {},
   "outputs": [],
   "source": [
    "data.reload()\n",
    "# step = data.fld_steps[-1]\n",
    "step = 0\n",
    "data.load(step)\n",
    "print(data.time)\n",
    "\n",
    "tick_size = 16\n",
    "label_size = 24\n",
    "\n",
    "\n",
    "fig, ax = plt.subplots(1, 1)\n",
    "fig.set_size_inches(10.0, 6.0)\n",
    "fig.patch.set_facecolor('w')\n",
    "\n",
    "ax.plot(data.x1[0,:], data.E1[10,:])\n",
    "# ax.set_ylim(-1e-8,1e-8)\n",
    "print(data.E1)\n",
    "\n",
    "ax.tick_params(labelsize=tick_size)\n",
    "ax.set_xlabel(r'$x$', fontsize=label_size)\n",
    "ax.set_ylabel(r'$y$', fontsize=label_size)\n"
   ]
  },
  {
   "cell_type": "code",
   "execution_count": null,
   "metadata": {},
   "outputs": [],
   "source": [
    "step = 23\n",
    "data.load(step)\n",
    "\n",
    "tick_size = 25\n",
    "label_size = 30\n",
    "\n",
    "fig, ax = plt.subplots(1, 1)\n",
    "fig.set_size_inches(10.0, 6.0)\n",
    "fig.patch.set_facecolor('w')\n",
    "\n",
    "x = data.x1\n",
    "y = data.x2\n",
    "\n",
    "# mesh_rho = ax.pcolormesh(data.x1, data.x2, data.sync_loss / rho, norm=colors.LogNorm(vmin=0.01, vmax=5e3),\n",
    "mesh_rho = ax.pcolormesh(x, y, data.Rho_e + 200.0,\n",
    "# mesh_rho = ax.pcolormesh(x, y, data.E1,\n",
    "                         vmin=-10, vmax=10,\n",
    "#                          norm=colors.LogNorm(vmin=0.01, vmax=5e3),\n",
    "                        #  norm=colors.SymLogNorm(vmin=-100, vmax=100, linthresh=1e-4),\n",
    "#                          shading='gouraud', cmap='inferno')\n",
    "                         cmap='bwr')\n",
    "# mesh_rho = ax.pcolormesh(x, y, data.E3 / data.B1, vmin=-0.2, vmax=0.2, shading='gouraud')\n",
    "ax.set_aspect('equal')\n",
    "ax.tick_params(labelsize=tick_size)\n",
    "ax.set_xlabel(r'$x$', fontsize=label_size)\n",
    "ax.set_ylabel(r'$y$', fontsize=label_size)\n",
    "\n",
    "divider1 = make_axes_locatable(ax)\n",
    "cax1 = divider1.append_axes(\"right\", size=\"3%\", pad=0.05)\n",
    "cb1 = plt.colorbar(mesh_rho, cax=cax1)\n",
    "cb1.ax.tick_params(labelsize=tick_size)\n",
    "cb1.ax.set_ylabel('$E_z$', fontsize=label_size, rotation=270, labelpad=20)\n",
    "\n",
    "print(data.E2)"
   ]
  },
  {
   "cell_type": "code",
   "execution_count": null,
   "metadata": {},
   "outputs": [],
   "source": []
  }
 ],
 "metadata": {
  "kernelspec": {
   "display_name": "Python 3 (ipykernel)",
   "language": "python",
   "name": "python3"
  },
  "language_info": {
   "codemirror_mode": {
    "name": "ipython",
    "version": 3
   },
   "file_extension": ".py",
   "mimetype": "text/x-python",
   "name": "python",
   "nbconvert_exporter": "python",
   "pygments_lexer": "ipython3",
   "version": "3.10.9"
  },
  "orig_nbformat": 4,
  "vscode": {
   "interpreter": {
    "hash": "767d51c1340bd893661ea55ea3124f6de3c7a262a8b4abca0554b478b1e2ff90"
   }
  }
 },
 "nbformat": 4,
 "nbformat_minor": 2
}
