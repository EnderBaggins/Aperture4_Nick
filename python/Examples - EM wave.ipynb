{
 "cells": [
  {
   "cell_type": "code",
   "execution_count": null,
   "metadata": {},
   "outputs": [],
   "source": [
    "import matplotlib\n",
    "matplotlib.rc(\"text\", usetex=True)\n",
    "matplotlib.rc(\"font\", family=\"serif\")\n",
    "import matplotlib.pyplot as plt\n",
    "import matplotlib.colors as colors\n",
    "\n",
    "import numpy as np\n",
    "from mpl_toolkits.axes_grid1 import make_axes_locatable\n",
    "import h5py\n",
    "import sys\n",
    "sys.path.append('.')\n",
    "from datalib import Data, flag_to_species\n"
   ]
  },
  {
   "cell_type": "code",
   "execution_count": null,
   "metadata": {},
   "outputs": [],
   "source": [
    "data = Data(\"../problems/examples/bin/Data/\")\n",
    "print(data.conf)\n",
    "print(data.fld_steps[-1])"
   ]
  },
  {
   "cell_type": "code",
   "execution_count": null,
   "metadata": {},
   "outputs": [],
   "source": [
    "step = 30\n",
    "data.load_fld(step)\n",
    "\n",
    "tick_size = 25\n",
    "label_size = 30\n",
    "\n",
    "\n",
    "fig, ax = plt.subplots(1, 1)\n",
    "fig.set_size_inches(16.0, 10.0)\n",
    "fig.patch.set_facecolor('w')\n",
    "\n",
    "x = data.x1\n",
    "y = data.x2\n",
    "\n",
    "mesh_rho = ax.pcolormesh(x, y, data.E1,\n",
    "                         vmin=-1.0, vmax=1.0,\n",
    "                         cmap='bwr')\n",
    "ax.set_aspect('equal')\n",
    "ax.tick_params(labelsize=tick_size)\n",
    "ax.set_xlabel(r'$x$', fontsize=label_size)\n",
    "ax.set_ylabel(r'$y$', fontsize=label_size)\n",
    "\n",
    "divider1 = make_axes_locatable(ax)\n",
    "cax1 = divider1.append_axes(\"right\", size=\"3%\", pad=0.05)\n",
    "cb1 = plt.colorbar(mesh_rho, cax=cax1)\n",
    "cb1.ax.tick_params(labelsize=tick_size)\n",
    "cb1.ax.set_ylabel('$E_y$', fontsize=label_size, rotation=270, labelpad=20)\n"
   ]
  }
 ],
 "metadata": {
  "kernelspec": {
   "display_name": "Python 3",
   "language": "python",
   "name": "python3"
  },
  "language_info": {
   "codemirror_mode": {
    "name": "ipython",
    "version": 3
   },
   "file_extension": ".py",
   "mimetype": "text/x-python",
   "name": "python",
   "nbconvert_exporter": "python",
   "pygments_lexer": "ipython3",
   "version": "3.10.9"
  },
  "orig_nbformat": 4,
  "vscode": {
   "interpreter": {
    "hash": "e7370f93d1d0cde622a1f8e1c04877d8463912d04d973331ad4851f04de6915a"
   }
  }
 },
 "nbformat": 4,
 "nbformat_minor": 2
}
